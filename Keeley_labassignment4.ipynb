{
 "cells": [
  {
   "cell_type": "markdown",
   "metadata": {},
   "source": [
    "# Lab Assignment 4: Using APIs in Python\n",
    "## DS 6001: Practice and Application of Data Science\n",
    "\n",
    "### Instructions\n",
    "Please answer the following questions as completely as possible using text, code, and the results of code as needed. Format your answers in a Jupyter notebook. To receive full credit, make sure you address every part of the problem, and make sure your document is formatted in a clean and professional way."
   ]
  },
  {
   "cell_type": "markdown",
   "metadata": {},
   "source": [
    "In this lab, you will work with the public API provided by [genius.com](https://genius.com/), a website that calls itself \"the world’s biggest collection of song lyrics and musical knowledge.\" You will need to read the API documentation carefully, acquire an access key, and use it without sharing it to pull data from this API into Python. You will also practice using a library made specifically to wrap around `requests` to make calling from the Genius API easier.\n",
    "\n",
    "## Problem 0\n",
    "Import the following libraries:"
   ]
  },
  {
   "cell_type": "code",
   "execution_count": 93,
   "metadata": {},
   "outputs": [],
   "source": [
    "import numpy as np\n",
    "import pandas as pd\n",
    "import requests\n",
    "import json\n",
    "import os\n",
    "import dotenv\n",
    "import sys\n",
    "sys.tracebacklimit = 0 # turn off the error tracebacks\n",
    "#os.getcwd()"
   ]
  },
  {
   "cell_type": "markdown",
   "metadata": {},
   "source": [
    "## Problem 1\n",
    "The Genius API documentation is here: https://docs.genius.com/#/getting-started-h1. Read through the documentation carefully. Although the Genius API is free and public, it still requires users an access key to use the API. In this case, Genius provides users with three codes: a client ID, a client ID secret, and a client access token. Use the documentation to find a way to obtain these codes for yourself. Write a paragraph that describes all of the steps you needed to take (but DO NOT list your access codes in this paragraph).\n",
    "\n",
    "Some hints and cautions: \n",
    "\n",
    "1. Before you can use the API, you will need a regular, free user account with Genius. Sign-up here: https://genius.com/signup_or_login\n",
    "\n",
    "2. Genius's API is built to support third-party app development, not data scientists. The language is entirely geared toward app development. Under \"Authentication\" there are instructions to third-party developers for guiding their own users in getting access keys. That's not relevant to getting access for yourself. It's not hard to get an access key, but the guidance here is not very clear. Be patient and read everything in the Authentication section carefully.\n",
    "\n",
    "3. When you arrive at the page that allows you to register for API access keys, the language is still geared toward app development. You will be prompted to name your app and provide the URLs associated with the app. It doesn't much matter what you name your app, and I just used the Collab main page (https://collab.its.virginia.edu/portal?containerLogin=true) for the URLs.\n",
    "\n",
    "4. When you get your codes, copy them in a text file. In problem 2 you will copy these codes over again to a `.env` file. [4 points]"
   ]
  },
  {
   "cell_type": "markdown",
   "metadata": {},
   "source": [
    "## *Answer to Problem 1:*\n",
    "\n",
    "*This was a very simple process. I followed the URL in the prompt, and the first paragraph indicated that I needed to create API keys/codes via another link. I followed this link, logged into an account that I created, and used the Collab site URL. This generated the necessary codes, which I prepared to paste into my .env file.*"
   ]
  },
  {
   "cell_type": "markdown",
   "metadata": {},
   "source": [
    "## Problem 2\n",
    "Create a `.env` file for this project. Open it, copy your access codes into it, and save it. Then use Python code to load the environmental variables contained in the `.env` file, and create variables that contain each of the three codes. (You can print these variables to make sure it worked, but do not allow your access keys to display in your notebook). [4 points]"
   ]
  },
  {
   "cell_type": "code",
   "execution_count": 94,
   "metadata": {},
   "outputs": [],
   "source": [
    "## Load codes into .env file\n",
    "\n",
    "dotenv.load_dotenv()\n",
    "ClientSecret=os.getenv(\"ClientSecret\")\n",
    "ClientId=os.getenv(\"ClientId\")\n",
    "AccessToken=os.getenv(\"AccessToken\")"
   ]
  },
  {
   "cell_type": "markdown",
   "metadata": {},
   "source": [
    "## Problem 3\n",
    "The root for all Genius APIs is https://api.genius.com. Find the endpoint for the Search API. (You will have to click the \"Authorize with Genius\" button in the upper-right corner if you haven't already done so). Use the `requests` library to issue a search for Bob Dylan. Genius's API is organized in a way that every individual artist has his or her own API endpoint. Display a portion of the JSON output that displays the API endpoint path for the data on Bob Dylan. \n",
    "\n",
    "Hint: to authenticate, specify your access token (not your client ID or client secret) as the `access_token` parameter. You will have to dig around the JSON output to find the artist ID, but it is listed under `primary_artist` several branches down the JSON tree. [4 points]"
   ]
  },
  {
   "cell_type": "code",
   "execution_count": 98,
   "metadata": {},
   "outputs": [
    {
     "name": "stdout",
     "output_type": "stream",
     "text": [
      "/artists/181\n"
     ]
    }
   ],
   "source": [
    "## Display JSON output for endpoint path to Bob Dylan\n",
    "\n",
    "keys = {'access_token':AccessToken}\n",
    "response = requests.get(\"https://api.genius.com/artists/181\", params=keys)\n",
    "json_file=json.loads(response.text)\n",
    "json_file\n",
    "print(json_file[\"response\"][\"artist\"][\"api_path\"])"
   ]
  },
  {
   "cell_type": "markdown",
   "metadata": {},
   "source": [
    "## Problem 4\n",
    "Add `/songs` to the end of the the endpoint path you found in problem 3 and use this path to request the 20 most popular Bob Dylan songs. Organize these data in a `pandas` data frame. [4 points]"
   ]
  },
  {
   "cell_type": "code",
   "execution_count": 110,
   "metadata": {},
   "outputs": [
    {
     "data": {
      "text/html": [
       "<div>\n",
       "<style scoped>\n",
       "    .dataframe tbody tr th:only-of-type {\n",
       "        vertical-align: middle;\n",
       "    }\n",
       "\n",
       "    .dataframe tbody tr th {\n",
       "        vertical-align: top;\n",
       "    }\n",
       "\n",
       "    .dataframe thead th {\n",
       "        text-align: right;\n",
       "    }\n",
       "</style>\n",
       "<table border=\"1\" class=\"dataframe\">\n",
       "  <thead>\n",
       "    <tr style=\"text-align: right;\">\n",
       "      <th></th>\n",
       "      <th>Title</th>\n",
       "    </tr>\n",
       "  </thead>\n",
       "  <tbody>\n",
       "    <tr>\n",
       "      <th>0</th>\n",
       "      <td>Murder Most Foul</td>\n",
       "    </tr>\n",
       "    <tr>\n",
       "      <th>1</th>\n",
       "      <td>We Are the World</td>\n",
       "    </tr>\n",
       "    <tr>\n",
       "      <th>2</th>\n",
       "      <td>Blowin’ in the Wind</td>\n",
       "    </tr>\n",
       "    <tr>\n",
       "      <th>3</th>\n",
       "      <td>Make You Feel My Love</td>\n",
       "    </tr>\n",
       "    <tr>\n",
       "      <th>4</th>\n",
       "      <td>The Times They Are A-Changin’</td>\n",
       "    </tr>\n",
       "    <tr>\n",
       "      <th>5</th>\n",
       "      <td>All Along the Watchtower</td>\n",
       "    </tr>\n",
       "    <tr>\n",
       "      <th>6</th>\n",
       "      <td>Knockin’ on Heaven’s Door</td>\n",
       "    </tr>\n",
       "    <tr>\n",
       "      <th>7</th>\n",
       "      <td>Like a Rolling Stone</td>\n",
       "    </tr>\n",
       "    <tr>\n",
       "      <th>8</th>\n",
       "      <td>All Along the Watchtower</td>\n",
       "    </tr>\n",
       "    <tr>\n",
       "      <th>9</th>\n",
       "      <td>Make You Feel My Love</td>\n",
       "    </tr>\n",
       "    <tr>\n",
       "      <th>10</th>\n",
       "      <td>Hurricane</td>\n",
       "    </tr>\n",
       "    <tr>\n",
       "      <th>11</th>\n",
       "      <td>Don’t Think Twice, It’s All Right</td>\n",
       "    </tr>\n",
       "    <tr>\n",
       "      <th>12</th>\n",
       "      <td>Mr. Tambourine Man</td>\n",
       "    </tr>\n",
       "    <tr>\n",
       "      <th>13</th>\n",
       "      <td>Wagon Wheel</td>\n",
       "    </tr>\n",
       "    <tr>\n",
       "      <th>14</th>\n",
       "      <td>A Hard Rain’s A-Gonna Fall</td>\n",
       "    </tr>\n",
       "    <tr>\n",
       "      <th>15</th>\n",
       "      <td>Subterranean Homesick Blues</td>\n",
       "    </tr>\n",
       "    <tr>\n",
       "      <th>16</th>\n",
       "      <td>Desolation Row</td>\n",
       "    </tr>\n",
       "    <tr>\n",
       "      <th>17</th>\n",
       "      <td>Tangled Up in Blue</td>\n",
       "    </tr>\n",
       "    <tr>\n",
       "      <th>18</th>\n",
       "      <td>Masters of War</td>\n",
       "    </tr>\n",
       "    <tr>\n",
       "      <th>19</th>\n",
       "      <td>Knockin’ on Heaven’s Door</td>\n",
       "    </tr>\n",
       "  </tbody>\n",
       "</table>\n",
       "</div>"
      ],
      "text/plain": [
       "                                Title\n",
       "0                    Murder Most Foul\n",
       "1                    We Are the World\n",
       "2                 Blowin’ in the Wind\n",
       "3               Make You Feel My Love\n",
       "4       The Times They Are A-Changin’\n",
       "5            All Along the Watchtower\n",
       "6           Knockin’ on Heaven’s Door\n",
       "7                Like a Rolling Stone\n",
       "8            All Along the Watchtower\n",
       "9               Make You Feel My Love\n",
       "10                          Hurricane\n",
       "11  Don’t Think Twice, It’s All Right\n",
       "12                 Mr. Tambourine Man\n",
       "13                        Wagon Wheel\n",
       "14         A Hard Rain’s A-Gonna Fall\n",
       "15        Subterranean Homesick Blues\n",
       "16                     Desolation Row\n",
       "17                 Tangled Up in Blue\n",
       "18                     Masters of War\n",
       "19          Knockin’ on Heaven’s Door"
      ]
     },
     "execution_count": 110,
     "metadata": {},
     "output_type": "execute_result"
    }
   ],
   "source": [
    "## Add endpoint\n",
    "\n",
    "response = requests.get(\"https://api.genius.com/artists/181/songs?sort=popularity&per_page=20\", params=keys)\n",
    "json_file=json.loads(response.text)\n",
    "json_file\n",
    "song_list=[]\n",
    "for entry in json_file[\"response\"][\"songs\"]:\n",
    "    title = entry[\"title\"]\n",
    "    song_list.append(title)\n",
    "df=pd.DataFrame(song_list,columns=[\"Title\"])\n",
    "df"
   ]
  },
  {
   "cell_type": "markdown",
   "metadata": {},
   "source": [
    "## Problem 5\n",
    "Install and import the `lyricsgenius` library in Python, which is a wrapper around `requests` that works specifically with the Genius API. . Follow the guide on the GitHub repository for this library (https://github.com/johnwmillr/LyricsGenius) for instructions on using the library. Use the `lyricsgenius` library to download and display the lyrics to \"Tangled Up in Blue\" by Bob Dylan. [4 points]"
   ]
  },
  {
   "cell_type": "code",
   "execution_count": 63,
   "metadata": {},
   "outputs": [
    {
     "name": "stdout",
     "output_type": "stream",
     "text": [
      "Collecting lyricsgenius\n",
      "  Downloading lyricsgenius-3.0.1-py3-none-any.whl (59 kB)\n",
      "\u001b[K     |████████████████████████████████| 59 kB 2.3 MB/s eta 0:00:01\n",
      "\u001b[?25hRequirement already satisfied: beautifulsoup4>=4.6.0 in /Users/nkeeley/opt/anaconda3/lib/python3.8/site-packages (from lyricsgenius) (4.9.3)\n",
      "Requirement already satisfied: requests>=2.20.0 in /Users/nkeeley/opt/anaconda3/lib/python3.8/site-packages (from lyricsgenius) (2.24.0)\n",
      "Requirement already satisfied: soupsieve>1.2; python_version >= \"3.0\" in /Users/nkeeley/opt/anaconda3/lib/python3.8/site-packages (from beautifulsoup4>=4.6.0->lyricsgenius) (2.0.1)\n",
      "Requirement already satisfied: idna<3,>=2.5 in /Users/nkeeley/opt/anaconda3/lib/python3.8/site-packages (from requests>=2.20.0->lyricsgenius) (2.10)\n",
      "Requirement already satisfied: chardet<4,>=3.0.2 in /Users/nkeeley/opt/anaconda3/lib/python3.8/site-packages (from requests>=2.20.0->lyricsgenius) (3.0.4)\n",
      "Requirement already satisfied: urllib3!=1.25.0,!=1.25.1,<1.26,>=1.21.1 in /Users/nkeeley/opt/anaconda3/lib/python3.8/site-packages (from requests>=2.20.0->lyricsgenius) (1.25.11)\n",
      "Requirement already satisfied: certifi>=2017.4.17 in /Users/nkeeley/opt/anaconda3/lib/python3.8/site-packages (from requests>=2.20.0->lyricsgenius) (2020.6.20)\n",
      "Installing collected packages: lyricsgenius\n",
      "Successfully installed lyricsgenius-3.0.1\n"
     ]
    }
   ],
   "source": [
    "## Install\n",
    "\n",
    "#!pip install lyricsgenius"
   ]
  },
  {
   "cell_type": "code",
   "execution_count": 69,
   "metadata": {},
   "outputs": [
    {
     "name": "stdout",
     "output_type": "stream",
     "text": [
      "Searching for \"Tangled Up in Blue\"...\n",
      "Done.\n",
      "[Verse 1]\n",
      "Early one morning the sun was shining\n",
      "I was laying in bed\n",
      "Wondering if she'd changed at all\n",
      "If her hair was still red\n",
      "Her folks they said our lives together\n",
      "Sure was going to be rough\n",
      "They never did like Mama's homemade dress\n",
      "Papa's bankbook wasn't big enough\n",
      "And I was standing on the side of the road\n",
      "Rain falling on my shoes\n",
      "Heading out for the East Coast\n",
      "Lord knows I've paid some dues\n",
      "Getting through\n",
      "Tangled up in blue\n",
      "\n",
      "[Verse 2]\n",
      "She was married when we first met\n",
      "Soon to be divorced\n",
      "I helped her out of a jam, I guess\n",
      "But I used a little too much force\n",
      "We drove that car as far as we could\n",
      "Abandoned it out West\n",
      "Split up on a dark sad night\n",
      "Both agreeing it was best\n",
      "She turned around to look at me\n",
      "As I was walking away\n",
      "I heard her say over my shoulder\n",
      "\"We'll meet again someday\n",
      "On the avenue\"\n",
      "Tangled up in blue\n",
      "[Verse 3]\n",
      "I had a job in the great north woods\n",
      "Working as a cook for a spell\n",
      "But I never did like it all that much\n",
      "And one day the ax just fell\n",
      "So I drifted down to New Orleans\n",
      "Where I lucky was to be employed\n",
      "Working for a while on a fishing boat\n",
      "Right outside of Delacroix\n",
      "But all the while I was alone\n",
      "The past was close behind\n",
      "I seen a lot of women\n",
      "But she never escaped my mind\n",
      "And I just grew\n",
      "Tangled up in blue\n",
      "\n",
      "[Verse 4]\n",
      "She was working in a topless place\n",
      "And I stopped in for a beer\n",
      "I just kept looking at the side of her face\n",
      "In the spotlight, so clear\n",
      "And later on, when the crowd thinned out\n",
      "I was just about to do the same\n",
      "She was standing there, in back of my chair\n",
      "Said to me \"Tell me, don't I know your name?\"\n",
      "I muttered something underneath my breath\n",
      "She studied the lines on my face\n",
      "I must admit, I felt a little uneasy\n",
      "When she bent down to tie the laces\n",
      "Of my shoe\n",
      "Tangled up in blue\n",
      "[Verse 5]\n",
      "She lit a burner on the stove\n",
      "And offered me a pipe\n",
      "\"I thought you'd never say hello\" she said\n",
      "\"You look like the silent type\"\n",
      "Then she opened up a book of poems\n",
      "And handed it to me\n",
      "Written by an Italian poet\n",
      "From the thirteenth century\n",
      "And every one of them words rang true\n",
      "And glowed like burning coal\n",
      "Pouring off of every page\n",
      "Like it was written in my soul\n",
      "From me to you\n",
      "Tangled up in blue\n",
      "\n",
      "[Verse 6]\n",
      "I lived with them on Montague Street\n",
      "In a basement down the stairs\n",
      "There was music in the cafes at night\n",
      "And revolution in the air\n",
      "Then he started into dealing with slaves\n",
      "And something inside of him died\n",
      "She had to sell everything she owned\n",
      "And froze up inside\n",
      "And when it finally, the bottom fell out\n",
      "I became withdrawn\n",
      "The only thing I knew how to do\n",
      "Was to keep on keeping on\n",
      "Like a bird that flew\n",
      "Tangled up in blue\n",
      "[Verse 7]\n",
      "So now I'm going back again\n",
      "I got to get to her somehow\n",
      "All the people we used to know\n",
      "They're an illusion to me now\n",
      "Some are mathematicians\n",
      "Some are carpenter's wives\n",
      "Don't know how it all got started\n",
      "I don't know what they're doing with their lives\n",
      "But me, I'm still on the road\n",
      "A-heading for another joint\n",
      "We always did feel the same\n",
      "We just saw it from a different point\n",
      "Of view\n",
      "Tangled up in blue\n"
     ]
    }
   ],
   "source": [
    "## Import and instantiate\n",
    "\n",
    "import lyricsgenius\n",
    "genius = lyricsgenius.Genius(AccessToken)\n",
    "\n",
    "## Get song then lyrics\n",
    "\n",
    "song = genius.search_song(\"Tangled Up in Blue\")\n",
    "print(song.lyrics)\n"
   ]
  },
  {
   "cell_type": "code",
   "execution_count": null,
   "metadata": {},
   "outputs": [],
   "source": []
  }
 ],
 "metadata": {
  "kernelspec": {
   "display_name": "Python 3",
   "language": "python",
   "name": "python3"
  },
  "language_info": {
   "codemirror_mode": {
    "name": "ipython",
    "version": 3
   },
   "file_extension": ".py",
   "mimetype": "text/x-python",
   "name": "python",
   "nbconvert_exporter": "python",
   "pygments_lexer": "ipython3",
   "version": "3.8.5"
  }
 },
 "nbformat": 4,
 "nbformat_minor": 4
}
